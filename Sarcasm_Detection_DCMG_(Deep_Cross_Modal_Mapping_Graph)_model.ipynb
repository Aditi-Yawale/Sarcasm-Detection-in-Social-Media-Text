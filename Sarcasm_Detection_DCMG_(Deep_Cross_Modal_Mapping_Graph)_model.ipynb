{
  "nbformat": 4,
  "nbformat_minor": 0,
  "metadata": {
    "colab": {
      "provenance": []
    },
    "kernelspec": {
      "name": "python3",
      "display_name": "Python 3"
    },
    "language_info": {
      "name": "python"
    }
  },
  "cells": [
    {
      "cell_type": "code",
      "execution_count": 1,
      "metadata": {
        "colab": {
          "base_uri": "https://localhost:8080/"
        },
        "id": "EkCS5eN2qLTX",
        "outputId": "6932a575-6daa-43ff-f126-29c86a67dbf2"
      },
      "outputs": [
        {
          "output_type": "stream",
          "name": "stdout",
          "text": [
            "Downloading from https://www.kaggle.com/api/v1/datasets/download/nikhiljohnk/tweets-with-sarcasm-and-irony?dataset_version_number=3...\n"
          ]
        },
        {
          "output_type": "stream",
          "name": "stderr",
          "text": [
            "100%|██████████| 4.27M/4.27M [00:00<00:00, 52.0MB/s]"
          ]
        },
        {
          "output_type": "stream",
          "name": "stdout",
          "text": [
            "Extracting files...\n"
          ]
        },
        {
          "output_type": "stream",
          "name": "stderr",
          "text": [
            "\n"
          ]
        },
        {
          "output_type": "stream",
          "name": "stdout",
          "text": [
            "Path to dataset files: /root/.cache/kagglehub/datasets/nikhiljohnk/tweets-with-sarcasm-and-irony/versions/3\n"
          ]
        }
      ],
      "source": [
        "import kagglehub\n",
        "\n",
        "# Download latest version\n",
        "path = kagglehub.dataset_download(\"nikhiljohnk/tweets-with-sarcasm-and-irony\")\n",
        "\n",
        "print(\"Path to dataset files:\", path)"
      ]
    },
    {
      "cell_type": "code",
      "source": [
        "import tensorflow as tf\n",
        "from tensorflow.keras.models import Model\n",
        "from tensorflow.keras.layers import Input, Embedding, LSTM, Dense, Dropout, Bidirectional, Concatenate\n",
        "from tensorflow.keras.preprocessing.text import Tokenizer\n",
        "from tensorflow.keras.preprocessing.sequence import pad_sequences\n",
        "from sklearn.model_selection import train_test_split\n",
        "from sklearn.preprocessing import LabelEncoder\n",
        "import numpy as np\n",
        "import pandas as pd\n",
        "\n"
      ],
      "metadata": {
        "id": "JRoQc3sXqMMC"
      },
      "execution_count": 2,
      "outputs": []
    },
    {
      "cell_type": "code",
      "source": [
        "# Load dataset\n",
        "import os\n",
        "dataset_path = path  # Path returned by kagglehub\n",
        "csv_files = [f for f in os.listdir(dataset_path) if f.endswith(\".csv\")]"
      ],
      "metadata": {
        "id": "3kNEd5LIsAsS"
      },
      "execution_count": 3,
      "outputs": []
    },
    {
      "cell_type": "code",
      "source": [
        "if csv_files:\n",
        "    dataset_file = os.path.join(dataset_path, csv_files[0])  # Pick the first CSV file\n",
        "    train_df = pd.read_csv(dataset_file)\n",
        "    print(f\"Loaded dataset: {dataset_file}\")\n",
        "else:\n",
        "    raise FileNotFoundError(\"No CSV files found in the dataset folder.\")\n"
      ],
      "metadata": {
        "colab": {
          "base_uri": "https://localhost:8080/"
        },
        "id": "8UqrJBc0sEcZ",
        "outputId": "32e089f8-153e-4268-a78d-2ef0790ddd78"
      },
      "execution_count": 4,
      "outputs": [
        {
          "output_type": "stream",
          "name": "stdout",
          "text": [
            "Loaded dataset: /root/.cache/kagglehub/datasets/nikhiljohnk/tweets-with-sarcasm-and-irony/versions/3/train.csv\n"
          ]
        }
      ]
    },
    {
      "cell_type": "code",
      "source": [
        "# Encode labels\n",
        "label_encoder = LabelEncoder()\n",
        "train_df[\"label\"] = label_encoder.fit_transform(train_df[\"class\"])"
      ],
      "metadata": {
        "id": "Fs7vKvOKsGUZ"
      },
      "execution_count": 5,
      "outputs": []
    },
    {
      "cell_type": "code",
      "source": [
        "# Split data\n",
        "X_train, X_val, y_train, y_val = train_test_split(\n",
        "    train_df[\"tweets\"], train_df[\"label\"], test_size=0.2, random_state=42, stratify=train_df[\"label\"]\n",
        ")"
      ],
      "metadata": {
        "id": "sZps_fkEsH1C"
      },
      "execution_count": 6,
      "outputs": []
    },
    {
      "cell_type": "code",
      "source": [
        "# Convert all values to strings and handle NaN values\n",
        "X_train = X_train.astype(str).fillna(\"\")\n",
        "X_val = X_val.astype(str).fillna(\"\")\n",
        "\n",
        "# Tokenization\n",
        "from tensorflow.keras.preprocessing.text import Tokenizer\n",
        "\n",
        "# Define the tokenizer\n",
        "tokenizer = Tokenizer(num_words=10000, oov_token=\"<OOV>\")  # Adjust num_words as needed\n",
        "\n",
        "# Convert all values to strings and handle NaN values\n",
        "X_train = X_train.astype(str).fillna(\"\")\n",
        "X_val = X_val.astype(str).fillna(\"\")\n",
        "\n",
        "# Tokenization\n",
        "tokenizer.fit_on_texts(X_train)\n",
        "X_train_seq = tokenizer.texts_to_sequences(X_train)\n",
        "X_val_seq = tokenizer.texts_to_sequences(X_val)\n",
        "\n"
      ],
      "metadata": {
        "id": "-C-YpyRJsokE"
      },
      "execution_count": 7,
      "outputs": []
    },
    {
      "cell_type": "code",
      "source": [
        "from tensorflow.keras.preprocessing.sequence import pad_sequences\n",
        "import numpy as np\n",
        "\n",
        "# Define max sequence length\n",
        "max_seq_length = 50  # Adjust based on dataset\n",
        "\n",
        "# Padding sequences\n",
        "X_train_pad = pad_sequences(X_train_seq, maxlen=max_seq_length, padding=\"post\", truncating=\"post\")\n",
        "X_val_pad = pad_sequences(X_val_seq, maxlen=max_seq_length, padding=\"post\", truncating=\"post\")\n",
        "\n",
        "# Convert labels to numpy arrays\n",
        "y_train = np.array(y_train).ravel()\n",
        "y_val = np.array(y_val).ravel()\n",
        "\n",
        "print(\"Shapes:\", X_train_pad.shape, y_train.shape)\n"
      ],
      "metadata": {
        "colab": {
          "base_uri": "https://localhost:8080/"
        },
        "id": "gL9vnKE2s1iS",
        "outputId": "1fce6efc-e6ac-4a27-c440-4415fed60144"
      },
      "execution_count": 8,
      "outputs": [
        {
          "output_type": "stream",
          "name": "stdout",
          "text": [
            "Shapes: (65126, 50) (65126,)\n"
          ]
        }
      ]
    },
    {
      "cell_type": "code",
      "source": [
        "from tensorflow.keras.layers import Input, Embedding, LSTM, Dense, Dropout, Bidirectional\n",
        "from tensorflow.keras.models import Model\n",
        "\n",
        "# Define parameters\n",
        "embedding_dim = 128\n",
        "lstm_units = 64\n",
        "dropout_rate = 0.3\n",
        "max_vocab_size = 10000  # Define this before using in Embedding\n",
        "max_seq_length = 50  # Ensure this is defined\n",
        "\n",
        "# Model architecture\n",
        "input_layer = Input(shape=(max_seq_length,))\n",
        "embedding_layer = Embedding(input_dim=max_vocab_size, output_dim=embedding_dim, input_length=max_seq_length)(input_layer)\n",
        "lstm_out = Bidirectional(LSTM(lstm_units, return_sequences=True))(embedding_layer)\n",
        "context_rep = Bidirectional(LSTM(lstm_units))(lstm_out)\n",
        "dropout = Dropout(dropout_rate)(context_rep)\n",
        "out = Dense(4, activation='softmax')(dropout)  # Ensure '4' matches the number of classes\n",
        "\n",
        "model = Model(inputs=input_layer, outputs=out)\n",
        "model.compile(loss='sparse_categorical_crossentropy', optimizer='adam', metrics=['accuracy'])\n",
        "\n",
        "# Model summary\n",
        "model.summary()\n"
      ],
      "metadata": {
        "colab": {
          "base_uri": "https://localhost:8080/",
          "height": 357
        },
        "id": "dEWNAt72vOTn",
        "outputId": "f1f37169-8894-424b-f636-9b42f07b931b"
      },
      "execution_count": 9,
      "outputs": [
        {
          "output_type": "stream",
          "name": "stderr",
          "text": [
            "/usr/local/lib/python3.11/dist-packages/keras/src/layers/core/embedding.py:90: UserWarning: Argument `input_length` is deprecated. Just remove it.\n",
            "  warnings.warn(\n"
          ]
        },
        {
          "output_type": "display_data",
          "data": {
            "text/plain": [
              "\u001b[1mModel: \"functional\"\u001b[0m\n"
            ],
            "text/html": [
              "<pre style=\"white-space:pre;overflow-x:auto;line-height:normal;font-family:Menlo,'DejaVu Sans Mono',consolas,'Courier New',monospace\"><span style=\"font-weight: bold\">Model: \"functional\"</span>\n",
              "</pre>\n"
            ]
          },
          "metadata": {}
        },
        {
          "output_type": "display_data",
          "data": {
            "text/plain": [
              "┏━━━━━━━━━━━━━━━━━━━━━━━━━━━━━━━━━━━━━━┳━━━━━━━━━━━━━━━━━━━━━━━━━━━━━┳━━━━━━━━━━━━━━━━━┓\n",
              "┃\u001b[1m \u001b[0m\u001b[1mLayer (type)                        \u001b[0m\u001b[1m \u001b[0m┃\u001b[1m \u001b[0m\u001b[1mOutput Shape               \u001b[0m\u001b[1m \u001b[0m┃\u001b[1m \u001b[0m\u001b[1m        Param #\u001b[0m\u001b[1m \u001b[0m┃\n",
              "┡━━━━━━━━━━━━━━━━━━━━━━━━━━━━━━━━━━━━━━╇━━━━━━━━━━━━━━━━━━━━━━━━━━━━━╇━━━━━━━━━━━━━━━━━┩\n",
              "│ input_layer (\u001b[38;5;33mInputLayer\u001b[0m)             │ (\u001b[38;5;45mNone\u001b[0m, \u001b[38;5;34m50\u001b[0m)                  │               \u001b[38;5;34m0\u001b[0m │\n",
              "├──────────────────────────────────────┼─────────────────────────────┼─────────────────┤\n",
              "│ embedding (\u001b[38;5;33mEmbedding\u001b[0m)                │ (\u001b[38;5;45mNone\u001b[0m, \u001b[38;5;34m50\u001b[0m, \u001b[38;5;34m128\u001b[0m)             │       \u001b[38;5;34m1,280,000\u001b[0m │\n",
              "├──────────────────────────────────────┼─────────────────────────────┼─────────────────┤\n",
              "│ bidirectional (\u001b[38;5;33mBidirectional\u001b[0m)        │ (\u001b[38;5;45mNone\u001b[0m, \u001b[38;5;34m50\u001b[0m, \u001b[38;5;34m128\u001b[0m)             │          \u001b[38;5;34m98,816\u001b[0m │\n",
              "├──────────────────────────────────────┼─────────────────────────────┼─────────────────┤\n",
              "│ bidirectional_1 (\u001b[38;5;33mBidirectional\u001b[0m)      │ (\u001b[38;5;45mNone\u001b[0m, \u001b[38;5;34m128\u001b[0m)                 │          \u001b[38;5;34m98,816\u001b[0m │\n",
              "├──────────────────────────────────────┼─────────────────────────────┼─────────────────┤\n",
              "│ dropout (\u001b[38;5;33mDropout\u001b[0m)                    │ (\u001b[38;5;45mNone\u001b[0m, \u001b[38;5;34m128\u001b[0m)                 │               \u001b[38;5;34m0\u001b[0m │\n",
              "├──────────────────────────────────────┼─────────────────────────────┼─────────────────┤\n",
              "│ dense (\u001b[38;5;33mDense\u001b[0m)                        │ (\u001b[38;5;45mNone\u001b[0m, \u001b[38;5;34m4\u001b[0m)                   │             \u001b[38;5;34m516\u001b[0m │\n",
              "└──────────────────────────────────────┴─────────────────────────────┴─────────────────┘\n"
            ],
            "text/html": [
              "<pre style=\"white-space:pre;overflow-x:auto;line-height:normal;font-family:Menlo,'DejaVu Sans Mono',consolas,'Courier New',monospace\">┏━━━━━━━━━━━━━━━━━━━━━━━━━━━━━━━━━━━━━━┳━━━━━━━━━━━━━━━━━━━━━━━━━━━━━┳━━━━━━━━━━━━━━━━━┓\n",
              "┃<span style=\"font-weight: bold\"> Layer (type)                         </span>┃<span style=\"font-weight: bold\"> Output Shape                </span>┃<span style=\"font-weight: bold\">         Param # </span>┃\n",
              "┡━━━━━━━━━━━━━━━━━━━━━━━━━━━━━━━━━━━━━━╇━━━━━━━━━━━━━━━━━━━━━━━━━━━━━╇━━━━━━━━━━━━━━━━━┩\n",
              "│ input_layer (<span style=\"color: #0087ff; text-decoration-color: #0087ff\">InputLayer</span>)             │ (<span style=\"color: #00d7ff; text-decoration-color: #00d7ff\">None</span>, <span style=\"color: #00af00; text-decoration-color: #00af00\">50</span>)                  │               <span style=\"color: #00af00; text-decoration-color: #00af00\">0</span> │\n",
              "├──────────────────────────────────────┼─────────────────────────────┼─────────────────┤\n",
              "│ embedding (<span style=\"color: #0087ff; text-decoration-color: #0087ff\">Embedding</span>)                │ (<span style=\"color: #00d7ff; text-decoration-color: #00d7ff\">None</span>, <span style=\"color: #00af00; text-decoration-color: #00af00\">50</span>, <span style=\"color: #00af00; text-decoration-color: #00af00\">128</span>)             │       <span style=\"color: #00af00; text-decoration-color: #00af00\">1,280,000</span> │\n",
              "├──────────────────────────────────────┼─────────────────────────────┼─────────────────┤\n",
              "│ bidirectional (<span style=\"color: #0087ff; text-decoration-color: #0087ff\">Bidirectional</span>)        │ (<span style=\"color: #00d7ff; text-decoration-color: #00d7ff\">None</span>, <span style=\"color: #00af00; text-decoration-color: #00af00\">50</span>, <span style=\"color: #00af00; text-decoration-color: #00af00\">128</span>)             │          <span style=\"color: #00af00; text-decoration-color: #00af00\">98,816</span> │\n",
              "├──────────────────────────────────────┼─────────────────────────────┼─────────────────┤\n",
              "│ bidirectional_1 (<span style=\"color: #0087ff; text-decoration-color: #0087ff\">Bidirectional</span>)      │ (<span style=\"color: #00d7ff; text-decoration-color: #00d7ff\">None</span>, <span style=\"color: #00af00; text-decoration-color: #00af00\">128</span>)                 │          <span style=\"color: #00af00; text-decoration-color: #00af00\">98,816</span> │\n",
              "├──────────────────────────────────────┼─────────────────────────────┼─────────────────┤\n",
              "│ dropout (<span style=\"color: #0087ff; text-decoration-color: #0087ff\">Dropout</span>)                    │ (<span style=\"color: #00d7ff; text-decoration-color: #00d7ff\">None</span>, <span style=\"color: #00af00; text-decoration-color: #00af00\">128</span>)                 │               <span style=\"color: #00af00; text-decoration-color: #00af00\">0</span> │\n",
              "├──────────────────────────────────────┼─────────────────────────────┼─────────────────┤\n",
              "│ dense (<span style=\"color: #0087ff; text-decoration-color: #0087ff\">Dense</span>)                        │ (<span style=\"color: #00d7ff; text-decoration-color: #00d7ff\">None</span>, <span style=\"color: #00af00; text-decoration-color: #00af00\">4</span>)                   │             <span style=\"color: #00af00; text-decoration-color: #00af00\">516</span> │\n",
              "└──────────────────────────────────────┴─────────────────────────────┴─────────────────┘\n",
              "</pre>\n"
            ]
          },
          "metadata": {}
        },
        {
          "output_type": "display_data",
          "data": {
            "text/plain": [
              "\u001b[1m Total params: \u001b[0m\u001b[38;5;34m1,478,148\u001b[0m (5.64 MB)\n"
            ],
            "text/html": [
              "<pre style=\"white-space:pre;overflow-x:auto;line-height:normal;font-family:Menlo,'DejaVu Sans Mono',consolas,'Courier New',monospace\"><span style=\"font-weight: bold\"> Total params: </span><span style=\"color: #00af00; text-decoration-color: #00af00\">1,478,148</span> (5.64 MB)\n",
              "</pre>\n"
            ]
          },
          "metadata": {}
        },
        {
          "output_type": "display_data",
          "data": {
            "text/plain": [
              "\u001b[1m Trainable params: \u001b[0m\u001b[38;5;34m1,478,148\u001b[0m (5.64 MB)\n"
            ],
            "text/html": [
              "<pre style=\"white-space:pre;overflow-x:auto;line-height:normal;font-family:Menlo,'DejaVu Sans Mono',consolas,'Courier New',monospace\"><span style=\"font-weight: bold\"> Trainable params: </span><span style=\"color: #00af00; text-decoration-color: #00af00\">1,478,148</span> (5.64 MB)\n",
              "</pre>\n"
            ]
          },
          "metadata": {}
        },
        {
          "output_type": "display_data",
          "data": {
            "text/plain": [
              "\u001b[1m Non-trainable params: \u001b[0m\u001b[38;5;34m0\u001b[0m (0.00 B)\n"
            ],
            "text/html": [
              "<pre style=\"white-space:pre;overflow-x:auto;line-height:normal;font-family:Menlo,'DejaVu Sans Mono',consolas,'Courier New',monospace\"><span style=\"font-weight: bold\"> Non-trainable params: </span><span style=\"color: #00af00; text-decoration-color: #00af00\">0</span> (0.00 B)\n",
              "</pre>\n"
            ]
          },
          "metadata": {}
        }
      ]
    },
    {
      "cell_type": "code",
      "source": [
        "# DCMG Model\n",
        "embedding_dim = 128\n",
        "lstm_units = 64\n",
        "dropout_rate = 0.3\n",
        "\n",
        "input_layer = Input(shape=(max_seq_length,))\n",
        "embedding_layer = Embedding(input_dim=max_vocab_size, output_dim=embedding_dim, input_length=max_seq_length)(input_layer)\n",
        "lstm_out = Bidirectional(LSTM(lstm_units, return_sequences=True))(embedding_layer)\n",
        "context_rep = Bidirectional(LSTM(lstm_units))(lstm_out)\n",
        "dropout = Dropout(dropout_rate)(context_rep)\n",
        "out = Dense(4, activation='softmax')(dropout)\n",
        "\n",
        "model = Model(inputs=input_layer, outputs=out)\n",
        "model.compile(loss='sparse_categorical_crossentropy', optimizer='adam', metrics=['accuracy'])"
      ],
      "metadata": {
        "id": "xN9WtlgcstV8"
      },
      "execution_count": 10,
      "outputs": []
    },
    {
      "cell_type": "code",
      "source": [
        "y_train = y_train.ravel()\n",
        "y_val = y_val.ravel()\n"
      ],
      "metadata": {
        "id": "1ShzIJ_xtZWg"
      },
      "execution_count": 11,
      "outputs": []
    },
    {
      "cell_type": "code",
      "source": [
        "print(\"Unique label values:\", np.unique(y_train))\n",
        "print(\"y_train dtype:\", y_train.dtype)\n"
      ],
      "metadata": {
        "colab": {
          "base_uri": "https://localhost:8080/"
        },
        "id": "JqFR5pEyt9PJ",
        "outputId": "9f664498-a74d-469e-a75b-935132ed090f"
      },
      "execution_count": 12,
      "outputs": [
        {
          "output_type": "stream",
          "name": "stdout",
          "text": [
            "Unique label values: [0 1 2 3]\n",
            "y_train dtype: int64\n"
          ]
        }
      ]
    },
    {
      "cell_type": "code",
      "source": [
        "out = Dense(4, activation='softmax')(dropout)  # 4 = number of classes\n"
      ],
      "metadata": {
        "id": "BtcirbXeuDVe"
      },
      "execution_count": 13,
      "outputs": []
    },
    {
      "cell_type": "code",
      "source": [
        "model.compile(loss=\"sparse_categorical_crossentropy\", optimizer=\"adam\", metrics=[\"accuracy\"])\n"
      ],
      "metadata": {
        "id": "9zRAGbrxuGMd"
      },
      "execution_count": 14,
      "outputs": []
    },
    {
      "cell_type": "code",
      "source": [
        "# Check if '4' exists in y_train or y_val\n",
        "if 4 in y_train or 4 in y_val:\n",
        "    # Replace value '4' with value '3' in both y_train and y_val\n",
        "    y_train = np.where(y_train == 4, 3, y_train)\n",
        "    y_val = np.where(y_val == 4, 3, y_val)"
      ],
      "metadata": {
        "id": "tdGFTCnbvq_0"
      },
      "execution_count": 15,
      "outputs": []
    },
    {
      "cell_type": "code",
      "source": [
        "# Train Model\n",
        "model.fit(X_train_pad, y_train, validation_data=(X_val_pad, y_val), epochs=5, batch_size=64)\n"
      ],
      "metadata": {
        "colab": {
          "base_uri": "https://localhost:8080/"
        },
        "id": "1a78gSz5svkw",
        "outputId": "05ce1668-927f-4063-cdb3-df73d0eefd3c"
      },
      "execution_count": 16,
      "outputs": [
        {
          "output_type": "stream",
          "name": "stdout",
          "text": [
            "Epoch 1/5\n",
            "\u001b[1m1018/1018\u001b[0m \u001b[32m━━━━━━━━━━━━━━━━━━━━\u001b[0m\u001b[37m\u001b[0m \u001b[1m282s\u001b[0m 269ms/step - accuracy: 0.6629 - loss: 0.6649 - val_accuracy: 0.7384 - val_loss: 0.4990\n",
            "Epoch 2/5\n",
            "\u001b[1m1018/1018\u001b[0m \u001b[32m━━━━━━━━━━━━━━━━━━━━\u001b[0m\u001b[37m\u001b[0m \u001b[1m322s\u001b[0m 270ms/step - accuracy: 0.7398 - loss: 0.5009 - val_accuracy: 0.7381 - val_loss: 0.5018\n",
            "Epoch 3/5\n",
            "\u001b[1m1018/1018\u001b[0m \u001b[32m━━━━━━━━━━━━━━━━━━━━\u001b[0m\u001b[37m\u001b[0m \u001b[1m333s\u001b[0m 280ms/step - accuracy: 0.7403 - loss: 0.4975 - val_accuracy: 0.7385 - val_loss: 0.4991\n",
            "Epoch 4/5\n",
            "\u001b[1m1018/1018\u001b[0m \u001b[32m━━━━━━━━━━━━━━━━━━━━\u001b[0m\u001b[37m\u001b[0m \u001b[1m311s\u001b[0m 270ms/step - accuracy: 0.7382 - loss: 0.4969 - val_accuracy: 0.7363 - val_loss: 0.5092\n",
            "Epoch 5/5\n",
            "\u001b[1m1018/1018\u001b[0m \u001b[32m━━━━━━━━━━━━━━━━━━━━\u001b[0m\u001b[37m\u001b[0m \u001b[1m328s\u001b[0m 276ms/step - accuracy: 0.7411 - loss: 0.4894 - val_accuracy: 0.7386 - val_loss: 0.5089\n"
          ]
        },
        {
          "output_type": "execute_result",
          "data": {
            "text/plain": [
              "<keras.src.callbacks.history.History at 0x7ff513ec4390>"
            ]
          },
          "metadata": {},
          "execution_count": 16
        }
      ]
    },
    {
      "cell_type": "code",
      "source": [
        "# Evaluate the model on validation/test data\n",
        "loss, accuracy = model.evaluate(X_val_pad, y_val, verbose=1)\n",
        "print(f\"Validation Accuracy: {accuracy * 100:.2f}%\")\n"
      ],
      "metadata": {
        "colab": {
          "base_uri": "https://localhost:8080/"
        },
        "id": "T1KF8zHssYaF",
        "outputId": "a3c20fea-5f11-47e9-830a-0f0c5033f161"
      },
      "execution_count": 17,
      "outputs": [
        {
          "output_type": "stream",
          "name": "stdout",
          "text": [
            "\u001b[1m509/509\u001b[0m \u001b[32m━━━━━━━━━━━━━━━━━━━━\u001b[0m\u001b[37m\u001b[0m \u001b[1m19s\u001b[0m 37ms/step - accuracy: 0.7436 - loss: 0.5037\n",
            "Validation Accuracy: 73.86%\n"
          ]
        }
      ]
    },
    {
      "cell_type": "code",
      "source": [
        "import numpy as np\n",
        "\n",
        "# Get model predictions\n",
        "y_pred = model.predict(X_val_pad)\n",
        "y_pred_classes = np.argmax(y_pred, axis=1)  # Convert probabilities to class labels\n",
        "\n",
        "# Print some example predictions\n",
        "for i in range(5):  # Show 5 sample predictions\n",
        "    print(f\"Text: {X_val.iloc[i]}\")  # Use .iloc to access by position\n",
        "    print(f\"Actual Label: {y_val[i]}, Predicted Label: {y_pred_classes[i]}\")\n",
        "    print(\"-\" * 50)"
      ],
      "metadata": {
        "colab": {
          "base_uri": "https://localhost:8080/"
        },
        "id": "BXBqml92whUh",
        "outputId": "e8950c5b-7920-4d6e-d09b-c5fdb2c4fda5"
      },
      "execution_count": 18,
      "outputs": [
        {
          "output_type": "stream",
          "name": "stdout",
          "text": [
            "\u001b[1m509/509\u001b[0m \u001b[32m━━━━━━━━━━━━━━━━━━━━\u001b[0m\u001b[37m\u001b[0m \u001b[1m18s\u001b[0m 35ms/step\n",
            "Text: #POC #Drugs #of #Abuse #Testing Market|Size|Share|Trends|Forecast http://t.co/4agNRT7QJ0\n",
            "Actual Label: 2, Predicted Label: 2\n",
            "--------------------------------------------------\n",
            "Text: LIVE on #Periscope: #Periscope #Katch #HowieMandel #Irony  https://t.co/vxrdcZvvxR\n",
            "Actual Label: 1, Predicted Label: 1\n",
            "--------------------------------------------------\n",
            "Text: Twitter get a #sarcasm filter in its sponsor algorithm so U don't then get paid tweets from the thing U were making fun of in the 1st place.\n",
            "Actual Label: 3, Predicted Label: 3\n",
            "--------------------------------------------------\n",
            "Text: 20 minute Seth Rollins promo again!!! I hate this #sarcasm\n",
            "Actual Label: 3, Predicted Label: 3\n",
            "--------------------------------------------------\n",
            "Text: Everyone is searching something exceptional on internet.\n",
            "Not for reading.\n",
            "But for sharing.\n",
            "#Irony\n",
            "Actual Label: 1, Predicted Label: 1\n",
            "--------------------------------------------------\n"
          ]
        }
      ]
    },
    {
      "cell_type": "code",
      "source": [
        "import numpy as np\n",
        "import pandas as pd\n",
        "\n",
        "# Define class labels (modify as per your dataset)\n",
        "class_labels = [\"Not Sarcastic\", \"Sarcastic\", \"Irony\", \"Other\"]  # Update if needed\n",
        "\n",
        "# Compute label distribution in predictions\n",
        "unique, counts = np.unique(y_pred_classes, return_counts=True)\n",
        "label_counts = dict(zip(unique, counts))\n",
        "\n",
        "# Convert to percentage\n",
        "total = sum(label_counts.values())\n",
        "label_percentages = {class_labels[k]: (v / total) * 100 for k, v in label_counts.items()}\n",
        "\n",
        "# Print each label with its percentage\n",
        "for label, percentage in label_percentages.items():\n",
        "    print(f\"{label}: {percentage:.2f}%\")\n",
        "\n",
        "# Convert to DataFrame for visualization\n",
        "df = pd.DataFrame(list(label_percentages.items()), columns=[\"Label\", \"Percentage\"])\n",
        "\n"
      ],
      "metadata": {
        "colab": {
          "base_uri": "https://localhost:8080/"
        },
        "id": "H1ghccDlwkPE",
        "outputId": "1bfe0233-f54c-466c-b08d-aad96ac0b615"
      },
      "execution_count": 19,
      "outputs": [
        {
          "output_type": "stream",
          "name": "stdout",
          "text": [
            "Not Sarcastic: 0.01%\n",
            "Sarcastic: 38.76%\n",
            "Irony: 22.88%\n",
            "Other: 38.35%\n"
          ]
        }
      ]
    },
    {
      "cell_type": "code",
      "source": [
        "import seaborn as sns\n",
        "import matplotlib.pyplot as plt\n",
        "\n",
        "# Plot label distribution\n",
        "plt.figure(figsize=(6,4))\n",
        "sns.barplot(x=df[\"Label\"], y=df[\"Percentage\"], palette=\"viridis\")\n",
        "plt.ylabel(\"Percentage\")\n",
        "plt.title(\"Predicted Label Distribution\")\n",
        "plt.ylim(0, 100)  # Set y-axis from 0 to 100%\n",
        "plt.show()\n"
      ],
      "metadata": {
        "colab": {
          "base_uri": "https://localhost:8080/",
          "height": 501
        },
        "id": "IzogDfvBw3WU",
        "outputId": "3a37f521-4a87-4ade-f349-695b89dad0a6"
      },
      "execution_count": 20,
      "outputs": [
        {
          "output_type": "stream",
          "name": "stderr",
          "text": [
            "<ipython-input-20-f6eabd690dca>:6: FutureWarning: \n",
            "\n",
            "Passing `palette` without assigning `hue` is deprecated and will be removed in v0.14.0. Assign the `x` variable to `hue` and set `legend=False` for the same effect.\n",
            "\n",
            "  sns.barplot(x=df[\"Label\"], y=df[\"Percentage\"], palette=\"viridis\")\n"
          ]
        },
        {
          "output_type": "display_data",
          "data": {
            "text/plain": [
              "<Figure size 600x400 with 1 Axes>"
            ],
            "image/png": "[encoded data removed]"
          },
          "metadata": {}
        }
      ]
    },
    {
      "cell_type": "code",
      "source": [
        "import seaborn as sns\n",
        "import matplotlib.pyplot as plt\n",
        "from sklearn.metrics import confusion_matrix\n",
        "\n",
        "# Compute confusion matrix\n",
        "cm = confusion_matrix(y_val, y_pred_classes)\n",
        "\n",
        "# Plot confusion matrix\n",
        "plt.figure(figsize=(6,4))\n",
        "sns.heatmap(cm, annot=True, fmt='d', cmap='Blues', xticklabels=[\"Not Sarcastic\", \"Sarcastic\"],\n",
        "            yticklabels=[\"Not Sarcastic\", \"Sarcastic\"])\n",
        "plt.xlabel(\"Predicted Label\")\n",
        "plt.ylabel(\"True Label\")\n",
        "plt.title(\"Confusion Matrix\")\n",
        "plt.show()\n"
      ],
      "metadata": {
        "colab": {
          "base_uri": "https://localhost:8080/",
          "height": 410
        },
        "id": "t7NXwfuGxO4Y",
        "outputId": "725f9ecd-3a7f-4f4d-acf4-1f168c198530"
      },
      "execution_count": 21,
      "outputs": [
        {
          "output_type": "display_data",
          "data": {
            "text/plain": [
              "<Figure size 600x400 with 2 Axes>"
            ],
            "image/png": "[encoded data removed]"
          },
          "metadata": {}
        }
      ]
    },
    {
      "cell_type": "code",
      "source": [
        "import pickle\n",
        "import json\n",
        "\n",
        "# Define filenames\n",
        "model_filename = \"sarcasm_dcmg_nb_model.keras\"  # Changed extension to .keras\n",
        "vectorizer_filename = \"tfidf_vectorizer.pkl\"\n",
        "params_filename = \"sarcasm_dcmg_params.json\"\n",
        "\n",
        "# Save the trained model using Keras's save method\n",
        "model.save(model_filename)\n",
        "\n",
        "# Save the TF-IDF vectorizer as a pickle file (if tfidf_vectorizer is defined)\n",
        "try:\n",
        "    with open(vectorizer_filename, \"wb\") as file:\n",
        "        pickle.dump(tfidf_vectorizer, file)\n",
        "except NameError:\n",
        "    print(\"tfidf_vectorizer not found. Skipping saving vectorizer.\")\n",
        "\n",
        "# Save model configuration as a JSON file\n",
        "model_config = model.to_json()\n",
        "with open(params_filename, \"w\") as file:\n",
        "    json.dump(model_config, file)\n",
        "\n",
        "print(\"✅ Model, vectorizer (if defined), and parameters saved successfully!\")"
      ],
      "metadata": {
        "id": "EtUPX8zNxVLI",
        "colab": {
          "base_uri": "https://localhost:8080/"
        },
        "outputId": "e65d3d0f-bd71-44d5-a7cb-b65d2f105bce"
      },
      "execution_count": 22,
      "outputs": [
        {
          "output_type": "stream",
          "name": "stdout",
          "text": [
            "tfidf_vectorizer not found. Skipping saving vectorizer.\n",
            "✅ Model, vectorizer (if defined), and parameters saved successfully!\n"
          ]
        }
      ]
    },
    {
      "cell_type": "code",
      "source": [
        "from google.colab import files\n",
        "\n",
        "# Download Pickle files and JSON file\n",
        "files.download(model_filename)\n",
        "files.download(vectorizer_filename)\n",
        "files.download(params_filename)"
      ],
      "metadata": {
        "id": "7K0A9bqWpILe",
        "colab": {
          "base_uri": "https://localhost:8080/",
          "height": 17
        },
        "outputId": "be873ca8-3367-4963-bfd2-74cb4f795498"
      },
      "execution_count": 23,
      "outputs": [
        {
          "output_type": "display_data",
          "data": {
            "text/plain": [
              "<IPython.core.display.Javascript object>"
            ],
            "application/javascript": [
              "\n",
              "    async function download(id, filename, size) {\n",
              "      if (!google.colab.kernel.accessAllowed) {\n",
              "        return;\n",
              "      }\n",
              "      const div = document.createElement('div');\n",
              "      const label = document.createElement('label');\n",
              "      label.textContent = `Downloading \"${filename}\": `;\n",
              "      div.appendChild(label);\n",
              "      const progress = document.createElement('progress');\n",
              "      progress.max = size;\n",
              "      div.appendChild(progress);\n",
              "      document.body.appendChild(div);\n",
              "\n",
              "      const buffers = [];\n",
              "      let downloaded = 0;\n",
              "\n",
              "      const channel = await google.colab.kernel.comms.open(id);\n",
              "      // Send a message to notify the kernel that we're ready.\n",
              "      channel.send({})\n",
              "\n",
              "      for await (const message of channel.messages) {\n",
              "        // Send a message to notify the kernel that we're ready.\n",
              "        channel.send({})\n",
              "        if (message.buffers) {\n",
              "          for (const buffer of message.buffers) {\n",
              "            buffers.push(buffer);\n",
              "            downloaded += buffer.byteLength;\n",
              "            progress.value = downloaded;\n",
              "          }\n",
              "        }\n",
              "      }\n",
              "      const blob = new Blob(buffers, {type: 'application/binary'});\n",
              "      const a = document.createElement('a');\n",
              "      a.href = window.URL.createObjectURL(blob);\n",
              "      a.download = filename;\n",
              "      div.appendChild(a);\n",
              "      a.click();\n",
              "      div.remove();\n",
              "    }\n",
              "  "
            ]
          },
          "metadata": {}
        },
        {
          "output_type": "display_data",
          "data": {
            "text/plain": [
              "<IPython.core.display.Javascript object>"
            ],
            "application/javascript": [
              "download(\"download_b16ce059-a9c1-4a9b-b381-1c29d4a666b4\", \"sarcasm_dcmg_nb_model.keras\", 17800037)"
            ]
          },
          "metadata": {}
        },
        {
          "output_type": "display_data",
          "data": {
            "text/plain": [
              "<IPython.core.display.Javascript object>"
            ],
            "application/javascript": [
              "\n",
              "    async function download(id, filename, size) {\n",
              "      if (!google.colab.kernel.accessAllowed) {\n",
              "        return;\n",
              "      }\n",
              "      const div = document.createElement('div');\n",
              "      const label = document.createElement('label');\n",
              "      label.textContent = `Downloading \"${filename}\": `;\n",
              "      div.appendChild(label);\n",
              "      const progress = document.createElement('progress');\n",
              "      progress.max = size;\n",
              "      div.appendChild(progress);\n",
              "      document.body.appendChild(div);\n",
              "\n",
              "      const buffers = [];\n",
              "      let downloaded = 0;\n",
              "\n",
              "      const channel = await google.colab.kernel.comms.open(id);\n",
              "      // Send a message to notify the kernel that we're ready.\n",
              "      channel.send({})\n",
              "\n",
              "      for await (const message of channel.messages) {\n",
              "        // Send a message to notify the kernel that we're ready.\n",
              "        channel.send({})\n",
              "        if (message.buffers) {\n",
              "          for (const buffer of message.buffers) {\n",
              "            buffers.push(buffer);\n",
              "            downloaded += buffer.byteLength;\n",
              "            progress.value = downloaded;\n",
              "          }\n",
              "        }\n",
              "      }\n",
              "      const blob = new Blob(buffers, {type: 'application/binary'});\n",
              "      const a = document.createElement('a');\n",
              "      a.href = window.URL.createObjectURL(blob);\n",
              "      a.download = filename;\n",
              "      div.appendChild(a);\n",
              "      a.click();\n",
              "      div.remove();\n",
              "    }\n",
              "  "
            ]
          },
          "metadata": {}
        },
        {
          "output_type": "display_data",
          "data": {
            "text/plain": [
              "<IPython.core.display.Javascript object>"
            ],
            "application/javascript": [
              "download(\"download_24487884-7950-4795-9fe4-a5f01a59edb7\", \"tfidf_vectorizer.pkl\", 0)"
            ]
          },
          "metadata": {}
        },
        {
          "output_type": "display_data",
          "data": {
            "text/plain": [
              "<IPython.core.display.Javascript object>"
            ],
            "application/javascript": [
              "\n",
              "    async function download(id, filename, size) {\n",
              "      if (!google.colab.kernel.accessAllowed) {\n",
              "        return;\n",
              "      }\n",
              "      const div = document.createElement('div');\n",
              "      const label = document.createElement('label');\n",
              "      label.textContent = `Downloading \"${filename}\": `;\n",
              "      div.appendChild(label);\n",
              "      const progress = document.createElement('progress');\n",
              "      progress.max = size;\n",
              "      div.appendChild(progress);\n",
              "      document.body.appendChild(div);\n",
              "\n",
              "      const buffers = [];\n",
              "      let downloaded = 0;\n",
              "\n",
              "      const channel = await google.colab.kernel.comms.open(id);\n",
              "      // Send a message to notify the kernel that we're ready.\n",
              "      channel.send({})\n",
              "\n",
              "      for await (const message of channel.messages) {\n",
              "        // Send a message to notify the kernel that we're ready.\n",
              "        channel.send({})\n",
              "        if (message.buffers) {\n",
              "          for (const buffer of message.buffers) {\n",
              "            buffers.push(buffer);\n",
              "            downloaded += buffer.byteLength;\n",
              "            progress.value = downloaded;\n",
              "          }\n",
              "        }\n",
              "      }\n",
              "      const blob = new Blob(buffers, {type: 'application/binary'});\n",
              "      const a = document.createElement('a');\n",
              "      a.href = window.URL.createObjectURL(blob);\n",
              "      a.download = filename;\n",
              "      div.appendChild(a);\n",
              "      a.click();\n",
              "      div.remove();\n",
              "    }\n",
              "  "
            ]
          },
          "metadata": {}
        },
        {
          "output_type": "display_data",
          "data": {
            "text/plain": [
              "<IPython.core.display.Javascript object>"
            ],
            "application/javascript": [
              "download(\"download_ec0b4e84-b09b-4851-b78f-808cb31f11aa\", \"sarcasm_dcmg_params.json\", 10484)"
            ]
          },
          "metadata": {}
        }
      ]
    },
    {
      "cell_type": "code",
      "source": [
        "from sklearn.metrics import classification_report\n",
        "\n",
        "# Predict class probabilities\n",
        "y_pred_probs = model.predict(X_val_pad)\n",
        "# Convert probabilities to class labels\n",
        "y_pred = y_pred_probs.argmax(axis=1)\n",
        "\n",
        "# Print precision, recall, f1-score\n",
        "print(classification_report(y_val, y_pred))\n"
      ],
      "metadata": {
        "id": "cvpCDbwXznji",
        "colab": {
          "base_uri": "https://localhost:8080/"
        },
        "outputId": "617a1d89-bb8b-4535-e737-d58b91a72cef"
      },
      "execution_count": 24,
      "outputs": [
        {
          "output_type": "stream",
          "name": "stdout",
          "text": [
            "\u001b[1m509/509\u001b[0m \u001b[32m━━━━━━━━━━━━━━━━━━━━\u001b[0m\u001b[37m\u001b[0m \u001b[1m18s\u001b[0m 36ms/step\n",
            "              precision    recall  f1-score   support\n",
            "\n",
            "           0       0.00      0.00      0.00      4248\n",
            "           1       0.66      1.00      0.80      4179\n",
            "           2       1.00      1.00      1.00      3719\n",
            "           3       0.66      1.00      0.80      4136\n",
            "\n",
            "    accuracy                           0.74     16282\n",
            "   macro avg       0.58      0.75      0.65     16282\n",
            "weighted avg       0.57      0.74      0.63     16282\n",
            "\n"
          ]
        }
      ]
    }
  ]
}